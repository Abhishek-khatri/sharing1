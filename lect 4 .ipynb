{
 "cells": [
  {
   "cell_type": "markdown",
   "metadata": {},
   "source": [
    "# this is headline"
   ]
  },
  {
   "cell_type": "markdown",
   "metadata": {},
   "source": [
    "#This is sub headline"
   ]
  },
  {
   "cell_type": "markdown",
   "metadata": {},
   "source": [
    "# headline\n",
    "## Sub headline\n"
   ]
  },
  {
   "cell_type": "code",
   "execution_count": 8,
   "metadata": {},
   "outputs": [
    {
     "name": "stdout",
     "output_type": "stream",
     "text": [
      "hello\n",
      "1\n",
      "2.0\n",
      "math\n"
     ]
    }
   ],
   "source": [
    "a=[\"hello\",1,2.0,\"math\"]\n",
    "for i in a: \n",
    "    print(i)\n"
   ]
  },
  {
   "cell_type": "code",
   "execution_count": 4,
   "metadata": {},
   "outputs": [
    {
     "name": "stdout",
     "output_type": "stream",
     "text": [
      "['hello']\n"
     ]
    }
   ],
   "source": [
    "b=[]\n",
    "b.append(\"hello\")\n",
    "print(b)"
   ]
  },
  {
   "cell_type": "code",
   "execution_count": 9,
   "metadata": {},
   "outputs": [
    {
     "ename": "SyntaxError",
     "evalue": "invalid syntax (<ipython-input-9-e2f032c73588>, line 10)",
     "output_type": "error",
     "traceback": [
      "\u001b[1;36m  File \u001b[1;32m\"<ipython-input-9-e2f032c73588>\"\u001b[1;36m, line \u001b[1;32m10\u001b[0m\n\u001b[1;33m    elif a==\"2\":\u001b[0m\n\u001b[1;37m       ^\u001b[0m\n\u001b[1;31mSyntaxError\u001b[0m\u001b[1;31m:\u001b[0m invalid syntax\n"
     ]
    }
   ],
   "source": [
    "d=[]\n",
    "while True:\n",
    "    a=input(\"Enter\")\n",
    "    if a==\"new\":\n",
    "        b=input(\"Enter name\")\n",
    "        c=int(input(\"Enter roll no\"))\n",
    "        d.append(b)\n",
    "        d.append(c)\n",
    "    print(d)\n",
    "        elif a==\"2\":\n",
    "            x=int(input(\"Enter roll no\"))\n",
    "            if x in d:\n",
    "            print(d[d.index(x)-1])\n",
    "        else:\n",
    "        print(\"Roll no is not present \")\n",
    "    \n",
    "        \n",
    "\n",
    "\n"
   ]
  },
  {
   "cell_type": "code",
   "execution_count": 1,
   "metadata": {},
   "outputs": [
    {
     "name": "stdout",
     "output_type": "stream",
     "text": [
      "['HEllo']\n"
     ]
    }
   ],
   "source": [
    "b=[]\n",
    "b.append(\"HEllo\")\n",
    "print(b)"
   ]
  },
  {
   "cell_type": "code",
   "execution_count": null,
   "metadata": {},
   "outputs": [],
   "source": []
  }
 ],
 "metadata": {
  "kernelspec": {
   "display_name": "Python 3",
   "language": "python",
   "name": "python3"
  },
  "language_info": {
   "codemirror_mode": {
    "name": "ipython",
    "version": 3
   },
   "file_extension": ".py",
   "mimetype": "text/x-python",
   "name": "python",
   "nbconvert_exporter": "python",
   "pygments_lexer": "ipython3",
   "version": "3.6.5"
  }
 },
 "nbformat": 4,
 "nbformat_minor": 2
}
